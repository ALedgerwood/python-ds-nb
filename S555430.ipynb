{
 "cells": [
  {
   "cell_type": "markdown",
   "id": "959f2654-4514-4907-8df6-d5dc659abefc",
   "metadata": {},
   "source": [
    "Web Mining and Applied NLP\n",
    "Student: Alex Ledgerwood\n",
    "\n",
    "New Notebook for Module 2 Assignment"
   ]
  },
  {
   "cell_type": "markdown",
   "id": "d4eddeeb-4205-455f-b86a-141c1d7d369e",
   "metadata": {},
   "source": [
    "#Question 10\n",
    "Python code that uses loops to create patterns"
   ]
  },
  {
   "cell_type": "code",
   "execution_count": 8,
   "id": "dbc8076c-a945-4d41-8f1f-ca0d7ce03be2",
   "metadata": {
    "tags": []
   },
   "outputs": [
    {
     "name": "stdout",
     "output_type": "stream",
     "text": [
      "*      *\n",
      "**    **\n",
      "***  ***\n",
      "********\n"
     ]
    }
   ],
   "source": [
    "# Pattern \n",
    "#*      *\n",
    "#**    **\n",
    "#***  ***\n",
    "#********\n",
    "n = 4\n",
    "\n",
    "for i in range(n):\n",
    "    for j in range(i + 1):\n",
    "        print(\"*\", end=\"\")\n",
    "    for k in range(2 * (n - i - 1)):\n",
    "        print(\" \", end=\"\")\n",
    "    for j in range(i + 1):\n",
    "        print(\"*\", end=\"\")\n",
    "    print()\n",
    "  "
   ]
  },
  {
   "cell_type": "code",
   "execution_count": null,
   "id": "3e2a9cb5-0de2-4ffa-9fb6-955040b061a6",
   "metadata": {},
   "outputs": [],
   "source": []
  }
 ],
 "metadata": {
  "kernelspec": {
   "display_name": "Python 3 (ipykernel)",
   "language": "python",
   "name": "python3"
  },
  "language_info": {
   "codemirror_mode": {
    "name": "ipython",
    "version": 3
   },
   "file_extension": ".py",
   "mimetype": "text/x-python",
   "name": "python",
   "nbconvert_exporter": "python",
   "pygments_lexer": "ipython3",
   "version": "3.9.13"
  }
 },
 "nbformat": 4,
 "nbformat_minor": 5
}
